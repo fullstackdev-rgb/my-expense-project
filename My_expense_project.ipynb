{
 "cells": [
  {
   "cell_type": "code",
   "execution_count": 257,
   "id": "659ce74c-9486-4571-b422-1602e75b6261",
   "metadata": {},
   "outputs": [],
   "source": [
    "import matplotlib.pyplot as plt\n"
   ]
  },
  {
   "cell_type": "code",
   "execution_count": 258,
   "id": "368d080d-8aa0-418d-8539-c3e3a50a9aa5",
   "metadata": {},
   "outputs": [],
   "source": [
    "import numpy as np"
   ]
  },
  {
   "cell_type": "code",
   "execution_count": 259,
   "id": "b8884e17-ca9d-499f-aed8-55bc4d9aeb7e",
   "metadata": {},
   "outputs": [],
   "source": [
    "import pandas as pd"
   ]
  },
  {
   "cell_type": "code",
   "execution_count": 260,
   "id": "19e2f7f8-9e46-4663-b6aa-f3aa09fa5630",
   "metadata": {},
   "outputs": [],
   "source": [
    "%matplotlib inline"
   ]
  },
  {
   "cell_type": "code",
   "execution_count": 261,
   "id": "bfc488fc-b966-423c-ae6b-0334b8574794",
   "metadata": {},
   "outputs": [
    {
     "data": {
      "text/plain": [
       "'C:\\\\Users\\\\Deno\\\\OneDrive\\\\Documentos\\\\wambo datascience\\\\files'"
      ]
     },
     "execution_count": 261,
     "metadata": {},
     "output_type": "execute_result"
    }
   ],
   "source": [
    "import os\n",
    "os.getcwd()\n"
   ]
  },
  {
   "cell_type": "code",
   "execution_count": 262,
   "id": "b812cf94-3a92-4a70-aeed-d391047d601c",
   "metadata": {},
   "outputs": [
    {
     "data": {
      "text/plain": [
       "'C:\\\\Users\\\\Deno\\\\OneDrive\\\\Documentos\\\\wambo datascience\\\\files'"
      ]
     },
     "execution_count": 262,
     "metadata": {},
     "output_type": "execute_result"
    }
   ],
   "source": [
    "os.getcwd()\n"
   ]
  },
  {
   "cell_type": "code",
   "execution_count": 263,
   "id": "de069bae-3576-4a07-9aad-f45f4a4d3e9f",
   "metadata": {},
   "outputs": [
    {
     "data": {
      "text/plain": [
       "['.ipynb_checkpoints',\n",
       " 'df1',\n",
       " 'df2',\n",
       " 'df3',\n",
       " 'expenses.csv',\n",
       " 'My expense.ipynb',\n",
       " 'Untitled.ipynb',\n",
       " '~$df1']"
      ]
     },
     "execution_count": 263,
     "metadata": {},
     "output_type": "execute_result"
    }
   ],
   "source": [
    "os.listdir()\n"
   ]
  },
  {
   "cell_type": "code",
   "execution_count": 264,
   "id": "13f833b8-6092-4d33-9ace-8899e2541ca8",
   "metadata": {},
   "outputs": [],
   "source": [
    "df = pd.read_csv('expenses.csv', on_bad_lines='skip')\n"
   ]
  },
  {
   "cell_type": "code",
   "execution_count": 265,
   "id": "d8637895-fe33-4a01-8efe-763b2084ed31",
   "metadata": {
    "scrolled": true
   },
   "outputs": [
    {
     "data": {
      "text/html": [
       "<div>\n",
       "<style scoped>\n",
       "    .dataframe tbody tr th:only-of-type {\n",
       "        vertical-align: middle;\n",
       "    }\n",
       "\n",
       "    .dataframe tbody tr th {\n",
       "        vertical-align: top;\n",
       "    }\n",
       "\n",
       "    .dataframe thead th {\n",
       "        text-align: right;\n",
       "    }\n",
       "</style>\n",
       "<table border=\"1\" class=\"dataframe\">\n",
       "  <thead>\n",
       "    <tr style=\"text-align: right;\">\n",
       "      <th></th>\n",
       "      <th>Day</th>\n",
       "      <th>Category</th>\n",
       "      <th>Item</th>\n",
       "      <th>Cost (Ksh)</th>\n",
       "      <th>Notes</th>\n",
       "    </tr>\n",
       "  </thead>\n",
       "  <tbody>\n",
       "    <tr>\n",
       "      <th>0</th>\n",
       "      <td>Monday</td>\n",
       "      <td>Upkeep</td>\n",
       "      <td>Received</td>\n",
       "      <td>1300</td>\n",
       "      <td>Weekly allowance</td>\n",
       "    </tr>\n",
       "    <tr>\n",
       "      <th>1</th>\n",
       "      <td>Monday</td>\n",
       "      <td>Restock</td>\n",
       "      <td>Water (5L)</td>\n",
       "      <td>30</td>\n",
       "      <td>To last the week</td>\n",
       "    </tr>\n",
       "    <tr>\n",
       "      <th>2</th>\n",
       "      <td>Monday</td>\n",
       "      <td>Restock</td>\n",
       "      <td>Rice (1kg)</td>\n",
       "      <td>300</td>\n",
       "      <td>To last 2 weeks</td>\n",
       "    </tr>\n",
       "    <tr>\n",
       "      <th>3</th>\n",
       "      <td>Monday</td>\n",
       "      <td>Restock</td>\n",
       "      <td>Perfume refill</td>\n",
       "      <td>100</td>\n",
       "      <td>If needed</td>\n",
       "    </tr>\n",
       "    <tr>\n",
       "      <th>4</th>\n",
       "      <td>Monday</td>\n",
       "      <td>Grocery</td>\n",
       "      <td>Tomatoes (1kg)</td>\n",
       "      <td>80</td>\n",
       "      <td>NaN</td>\n",
       "    </tr>\n",
       "  </tbody>\n",
       "</table>\n",
       "</div>"
      ],
      "text/plain": [
       "      Day Category            Item  Cost (Ksh)             Notes\n",
       "0  Monday   Upkeep        Received        1300  Weekly allowance\n",
       "1  Monday  Restock      Water (5L)          30  To last the week\n",
       "2  Monday  Restock      Rice (1kg)         300   To last 2 weeks\n",
       "3  Monday  Restock  Perfume refill         100         If needed\n",
       "4  Monday  Grocery  Tomatoes (1kg)          80               NaN"
      ]
     },
     "execution_count": 265,
     "metadata": {},
     "output_type": "execute_result"
    }
   ],
   "source": [
    "df.head()"
   ]
  },
  {
   "cell_type": "code",
   "execution_count": 266,
   "id": "661cdef1-6844-4abf-b54b-03db3f1aa245",
   "metadata": {},
   "outputs": [
    {
     "data": {
      "text/plain": [
       "Day           0\n",
       "Category      0\n",
       "Item          0\n",
       "Cost (Ksh)    0\n",
       "Notes         6\n",
       "dtype: int64"
      ]
     },
     "execution_count": 266,
     "metadata": {},
     "output_type": "execute_result"
    }
   ],
   "source": [
    "df.isnull().sum()\n"
   ]
  },
  {
   "cell_type": "code",
   "execution_count": 267,
   "id": "4dfd7e18-9bee-40c3-8ca5-c9a8a47b1cf8",
   "metadata": {},
   "outputs": [
    {
     "data": {
      "text/html": [
       "<div>\n",
       "<style scoped>\n",
       "    .dataframe tbody tr th:only-of-type {\n",
       "        vertical-align: middle;\n",
       "    }\n",
       "\n",
       "    .dataframe tbody tr th {\n",
       "        vertical-align: top;\n",
       "    }\n",
       "\n",
       "    .dataframe thead th {\n",
       "        text-align: right;\n",
       "    }\n",
       "</style>\n",
       "<table border=\"1\" class=\"dataframe\">\n",
       "  <thead>\n",
       "    <tr style=\"text-align: right;\">\n",
       "      <th></th>\n",
       "      <th>Cost (Ksh)</th>\n",
       "    </tr>\n",
       "  </thead>\n",
       "  <tbody>\n",
       "    <tr>\n",
       "      <th>count</th>\n",
       "      <td>18.000000</td>\n",
       "    </tr>\n",
       "    <tr>\n",
       "      <th>mean</th>\n",
       "      <td>131.944444</td>\n",
       "    </tr>\n",
       "    <tr>\n",
       "      <th>std</th>\n",
       "      <td>300.054597</td>\n",
       "    </tr>\n",
       "    <tr>\n",
       "      <th>min</th>\n",
       "      <td>0.000000</td>\n",
       "    </tr>\n",
       "    <tr>\n",
       "      <th>25%</th>\n",
       "      <td>22.500000</td>\n",
       "    </tr>\n",
       "    <tr>\n",
       "      <th>50%</th>\n",
       "      <td>42.500000</td>\n",
       "    </tr>\n",
       "    <tr>\n",
       "      <th>75%</th>\n",
       "      <td>100.000000</td>\n",
       "    </tr>\n",
       "    <tr>\n",
       "      <th>max</th>\n",
       "      <td>1300.000000</td>\n",
       "    </tr>\n",
       "  </tbody>\n",
       "</table>\n",
       "</div>"
      ],
      "text/plain": [
       "        Cost (Ksh)\n",
       "count    18.000000\n",
       "mean    131.944444\n",
       "std     300.054597\n",
       "min       0.000000\n",
       "25%      22.500000\n",
       "50%      42.500000\n",
       "75%     100.000000\n",
       "max    1300.000000"
      ]
     },
     "execution_count": 267,
     "metadata": {},
     "output_type": "execute_result"
    }
   ],
   "source": [
    "df.describe()"
   ]
  },
  {
   "cell_type": "code",
   "execution_count": 268,
   "id": "98fdc88c-a534-4e67-96b1-4de9abf4f15c",
   "metadata": {},
   "outputs": [
    {
     "data": {
      "text/plain": [
       "<Axes: title={'center': 'Expense Frequency'}, ylabel='Frequency'>"
      ]
     },
     "execution_count": 268,
     "metadata": {},
     "output_type": "execute_result"
    }
   ],
   "source": [
    "df['Cost (Ksh)'].plot(kind='hist', bins=10, title='Expense Frequency')"
   ]
  },
  {
   "cell_type": "code",
   "execution_count": 269,
   "id": "d9fcb4ff-28ce-4644-a89f-ddf7d1841a8a",
   "metadata": {},
   "outputs": [
    {
     "data": {
      "text/plain": [
       "Text(0.5, 23.52222222222222, 'Cost in Ksh')"
      ]
     },
     "execution_count": 269,
     "metadata": {},
     "output_type": "execute_result"
    }
   ],
   "source": [
    "plt.xlabel('Cost in Ksh')"
   ]
  },
  {
   "cell_type": "code",
   "execution_count": 270,
   "id": "a0ce474e-2f79-4f75-b418-0f6983c39959",
   "metadata": {},
   "outputs": [
    {
     "data": {
      "text/plain": [
       "Text(46.972222222222214, 0.5, 'Day')"
      ]
     },
     "execution_count": 270,
     "metadata": {},
     "output_type": "execute_result"
    }
   ],
   "source": [
    "plt.ylabel('Day')"
   ]
  },
  {
   "cell_type": "code",
   "execution_count": 271,
   "id": "44b02dd0-21f3-46a8-914f-2c092241de87",
   "metadata": {},
   "outputs": [],
   "source": [
    "plt.grid('True')"
   ]
  },
  {
   "cell_type": "code",
   "execution_count": 272,
   "id": "127eae0c-c1db-4fe0-b189-4eed7faea3a1",
   "metadata": {},
   "outputs": [
    {
     "data": {
      "text/plain": [
       "Text(0.5, 1.0, 'My Personal Expense')"
      ]
     },
     "execution_count": 272,
     "metadata": {},
     "output_type": "execute_result"
    }
   ],
   "source": [
    "plt.title('My Personal Expense',fontsize=14)"
   ]
  },
  {
   "cell_type": "code",
   "execution_count": 273,
   "id": "d977e687-3efe-4716-8f00-9e70ab951732",
   "metadata": {},
   "outputs": [
    {
     "name": "stdout",
     "output_type": "stream",
     "text": [
      "Day\n",
      "Monday       2070\n",
      "Tuesday         0\n",
      "Wednesday      80\n",
      "Thursday       45\n",
      "Friday         30\n",
      "Saturday      120\n",
      "Sunday         30\n",
      "Name: Cost (Ksh), dtype: int64\n"
     ]
    }
   ],
   "source": [
    "print(grouped)\n"
   ]
  },
  {
   "cell_type": "code",
   "execution_count": 274,
   "id": "44f29923-f202-4c81-bc0c-6649df8e1c24",
   "metadata": {},
   "outputs": [],
   "source": [
    "ax = grouped.plot(kind='barh',title='My Personal Expense',color='cornflowerblue',figsize=(8, 5))\n"
   ]
  },
  {
   "cell_type": "code",
   "execution_count": 275,
   "id": "e4f28734-47d4-4adf-a0ce-5c1983f3d27a",
   "metadata": {},
   "outputs": [],
   "source": [
    "day_order=['Monday','Tuesday','Wednesday','Thursday','Friday','Saturday','Sunday']"
   ]
  },
  {
   "cell_type": "code",
   "execution_count": 276,
   "id": "69e84934-7405-437c-aba3-76c1b00a595a",
   "metadata": {},
   "outputs": [],
   "source": [
    "df['Day']=df['Day'].str.strip().str.capitalize()"
   ]
  },
  {
   "cell_type": "code",
   "execution_count": 277,
   "id": "f58783e5-6dfb-4d3a-bf9b-fd204f61d192",
   "metadata": {},
   "outputs": [],
   "source": [
    "grouped = df.groupby('Day')['Cost (Ksh)'].sum().reindex(day_order)\n"
   ]
  },
  {
   "cell_type": "code",
   "execution_count": 278,
   "id": "d611de82-646c-42b5-8102-0e5cf20a9321",
   "metadata": {},
   "outputs": [],
   "source": [
    "plt.grid('True')"
   ]
  },
  {
   "cell_type": "code",
   "execution_count": 279,
   "id": "a71fb898-fe63-4462-ac90-0ec052d07174",
   "metadata": {},
   "outputs": [
    {
     "data": {
      "text/plain": [
       "Text(0.5, 25.722222222222214, 'Cost in Ksh')"
      ]
     },
     "execution_count": 279,
     "metadata": {},
     "output_type": "execute_result"
    }
   ],
   "source": [
    "plt.xlabel('Cost in Ksh')"
   ]
  },
  {
   "cell_type": "code",
   "execution_count": 280,
   "id": "b3af4ba0-74ed-43fa-aee5-5158b84d2854",
   "metadata": {},
   "outputs": [
    {
     "data": {
      "image/png": "[encoded data removed]",
      "text/plain": [
       "<Figure size 800x500 with 1 Axes>"
      ]
     },
     "metadata": {},
     "output_type": "display_data"
    }
   ],
   "source": [
    "plt.show()"
   ]
  },
  {
   "cell_type": "code",
   "execution_count": 281,
   "id": "24d8d388-1ed9-4029-a89f-7bb794555722",
   "metadata": {},
   "outputs": [
    {
     "name": "stdout",
     "output_type": "stream",
     "text": [
      "Index(['Day', 'Category', 'Item', 'Cost (Ksh)', 'Notes'], dtype='object')\n"
     ]
    }
   ],
   "source": [
    "print(df.columns)\n"
   ]
  },
  {
   "cell_type": "code",
   "execution_count": 284,
   "id": "5edf10d7-05ec-4f1e-853c-840aeaf04a41",
   "metadata": {
    "scrolled": true
   },
   "outputs": [
    {
     "name": "stdout",
     "output_type": "stream",
     "text": [
      "      Day Category            Item  Cost (Ksh)             Notes\n",
      "0  Monday   Upkeep        Received        1300  Weekly allowance\n",
      "1  Monday  Restock      Water (5L)          30  To last the week\n",
      "2  Monday  Restock      Rice (1kg)         300   To last 2 weeks\n",
      "3  Monday  Restock  Perfume refill         100         If needed\n",
      "4  Monday  Grocery  Tomatoes (1kg)          80               NaN\n"
     ]
    }
   ],
   "source": [
    "print(df.head())\n"
   ]
  },
  {
   "cell_type": "code",
   "execution_count": 285,
   "id": "ab527936-392b-48a7-84c8-8891c1788004",
   "metadata": {},
   "outputs": [
    {
     "name": "stdout",
     "output_type": "stream",
     "text": [
      "['Upkeep' 'Restock' 'Grocery' 'Meal']\n"
     ]
    }
   ],
   "source": [
    "print(df['Category'].unique())\n"
   ]
  },
  {
   "cell_type": "code",
   "execution_count": 286,
   "id": "60feba27-b10f-49ec-8155-e49912f790f1",
   "metadata": {},
   "outputs": [
    {
     "name": "stdout",
     "output_type": "stream",
     "text": [
      "Category\n",
      "Upkeep     1300\n",
      "Restock     430\n",
      "Meal        405\n",
      "Grocery     240\n",
      "Name: Cost (Ksh), dtype: int64\n"
     ]
    }
   ],
   "source": [
    "category_totals = df.groupby('Category')['Cost (Ksh)'].sum().sort_values(ascending=False)\n",
    "print(category_totals)\n"
   ]
  },
  {
   "cell_type": "code",
   "execution_count": 288,
   "id": "93d69945-ec23-40f0-bbfc-3d278dcca6e6",
   "metadata": {},
   "outputs": [],
   "source": [
    "category_map = {'Grocery': 'Food', 'Meal': 'Food', 'Restock': 'Food', 'Upkeep': 'Personal Care', 'Shopping': 'Lifestyle', 'Hair': 'Lifestyle', 'Fare': 'Transport', 'Bills': 'Utilities'}"
   ]
  },
  {
   "cell_type": "code",
   "execution_count": 289,
   "id": "8e1b0fd9-1407-4677-9b8f-f3abd633de54",
   "metadata": {},
   "outputs": [],
   "source": [
    "df['Main Category'] = df['Category'].map(category_map).fillna('Other')\n"
   ]
  },
  {
   "cell_type": "code",
   "execution_count": 290,
   "id": "8d05fb93-01e5-4a38-bef6-9ab4c937284d",
   "metadata": {},
   "outputs": [],
   "source": [
    "main_totals = df.groupby('Main Category')['Cost (Ksh)'].sum().sort_values(ascending=False)\n"
   ]
  },
  {
   "cell_type": "code",
   "execution_count": 291,
   "id": "77d0b13f-4d37-414e-be30-e27ee992fb29",
   "metadata": {},
   "outputs": [
    {
     "name": "stdout",
     "output_type": "stream",
     "text": [
      "Main Category\n",
      "Personal Care    1300\n",
      "Food             1075\n",
      "Name: Cost (Ksh), dtype: int64\n"
     ]
    }
   ],
   "source": [
    "print(main_totals)"
   ]
  },
  {
   "cell_type": "code",
   "execution_count": 292,
   "id": "e6111727-0ebb-4101-8bd2-c1d1b64b22da",
   "metadata": {},
   "outputs": [
    {
     "data": {
      "text/plain": [
       "<Axes: title={'center': 'Spending by Main Category'}, xlabel='Main Category'>"
      ]
     },
     "execution_count": 292,
     "metadata": {},
     "output_type": "execute_result"
    }
   ],
   "source": [
    "main_totals.plot( kind='bar', title='Spending by Main Category', color='mediumorchid', figsize=(7, 5))"
   ]
  },
  {
   "cell_type": "code",
   "execution_count": 293,
   "id": "dfcbece4-a749-4c20-96e5-b169582ad694",
   "metadata": {},
   "outputs": [
    {
     "data": {
      "text/plain": [
       "Text(0.5, -56.152777777777786, 'Main Category')"
      ]
     },
     "execution_count": 293,
     "metadata": {},
     "output_type": "execute_result"
    }
   ],
   "source": [
    "plt.xlabel('Main Category')"
   ]
  },
  {
   "cell_type": "code",
   "execution_count": 294,
   "id": "dc29e6fc-49f4-49f2-962b-93484a7d84f2",
   "metadata": {},
   "outputs": [
    {
     "data": {
      "text/plain": [
       "Text(36.722222222222214, 0.5, 'Total Cost in Ksh')"
      ]
     },
     "execution_count": 294,
     "metadata": {},
     "output_type": "execute_result"
    }
   ],
   "source": [
    "plt.ylabel('Total Cost in Ksh')"
   ]
  },
  {
   "cell_type": "code",
   "execution_count": 295,
   "id": "e36a4782-a3be-4e30-aea7-e205da5de274",
   "metadata": {},
   "outputs": [
    {
     "data": {
      "text/plain": [
       "(array([0, 1]), [Text(0, 0, 'Personal Care'), Text(1, 0, 'Food')])"
      ]
     },
     "execution_count": 295,
     "metadata": {},
     "output_type": "execute_result"
    }
   ],
   "source": [
    "plt.xticks(rotation=0)"
   ]
  },
  {
   "cell_type": "code",
   "execution_count": 296,
   "id": "2edc5452-0796-483a-90ce-69eac29167e2",
   "metadata": {},
   "outputs": [],
   "source": [
    "plt.grid(axis='y', linestyle='--', alpha=0.6)"
   ]
  },
  {
   "cell_type": "code",
   "execution_count": 297,
   "id": "72f7ee00-9042-4f9e-84bb-6cbbdfd41f2c",
   "metadata": {},
   "outputs": [],
   "source": [
    "plt.tight_layout()"
   ]
  },
  {
   "cell_type": "code",
   "execution_count": 298,
   "id": "3086730d-3be9-48b7-837b-39369cf4cf91",
   "metadata": {},
   "outputs": [
    {
     "data": {
      "image/png": "[encoded data removed]",
      "text/plain": [
       "<Figure size 700x500 with 1 Axes>"
      ]
     },
     "metadata": {},
     "output_type": "display_data"
    }
   ],
   "source": [
    "plt.show()"
   ]
  },
  {
   "cell_type": "code",
   "execution_count": 303,
   "id": "6d094471-cc58-4406-876b-8532e3ed2d46",
   "metadata": {},
   "outputs": [
    {
     "data": {
      "text/plain": [
       "<Axes: title={'center': 'Spending Breakdown by Main Category'}, ylabel='Cost (Ksh)'>"
      ]
     },
     "execution_count": 303,
     "metadata": {},
     "output_type": "execute_result"
    }
   ],
   "source": [
    "main_totals.plot(kind='pie',autopct='%1.1f%%', startangle=90,title='Spending Breakdown by Main Category', figsize=(6, 6),colors=['Pink','lavender','green','blue','Orange'])"
   ]
  },
  {
   "cell_type": "code",
   "execution_count": 304,
   "id": "ec6573f3-e7cb-4e33-a525-80bfaac45929",
   "metadata": {},
   "outputs": [
    {
     "data": {
      "text/plain": [
       "Text(0.5, 60.44444444444443, 'Main Category')"
      ]
     },
     "execution_count": 304,
     "metadata": {},
     "output_type": "execute_result"
    }
   ],
   "source": [
    "plt.xlabel('Main Category')"
   ]
  },
  {
   "cell_type": "code",
   "execution_count": 305,
   "id": "dac487e1-63c9-4d88-ba80-a146dd21d734",
   "metadata": {},
   "outputs": [
    {
     "data": {
      "text/plain": [
       "Text(70.94444444444444, 0.5, 'Total Cost in Ksh')"
      ]
     },
     "execution_count": 305,
     "metadata": {},
     "output_type": "execute_result"
    }
   ],
   "source": [
    "plt.ylabel('Total Cost in Ksh')"
   ]
  },
  {
   "cell_type": "code",
   "execution_count": 306,
   "id": "a06afd4d-7d07-4776-8213-2f99c198fda6",
   "metadata": {},
   "outputs": [],
   "source": [
    "plt.tight_layout()"
   ]
  },
  {
   "cell_type": "code",
   "execution_count": 307,
   "id": "68fdce4a-3569-4cd6-9779-556423f02383",
   "metadata": {},
   "outputs": [
    {
     "data": {
      "image/png": "[encoded data removed]",
      "text/plain": [
       "<Figure size 600x600 with 1 Axes>"
      ]
     },
     "metadata": {},
     "output_type": "display_data"
    }
   ],
   "source": [
    "plt.show()"
   ]
  },
  {
   "cell_type": "code",
   "execution_count": null,
   "id": "f39b9151-446e-4a25-97a1-ee42d1ac3f95",
   "metadata": {},
   "outputs": [],
   "source": []
  }
 ],
 "metadata": {
  "kernelspec": {
   "display_name": "Python 3 (Fixed)",
   "language": "python",
   "name": "python3"
  },
  "language_info": {
   "codemirror_mode": {
    "name": "ipython",
    "version": 3
   },
   "file_extension": ".py",
   "mimetype": "text/x-python",
   "name": "python",
   "nbconvert_exporter": "python",
   "pygments_lexer": "ipython3",
   "version": "3.12.7"
  }
 },
 "nbformat": 4,
 "nbformat_minor": 5
}
